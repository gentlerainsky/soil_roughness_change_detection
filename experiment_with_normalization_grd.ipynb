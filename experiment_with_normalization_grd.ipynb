{
 "cells": [
  {
   "cell_type": "code",
   "execution_count": 1,
   "metadata": {},
   "outputs": [],
   "source": [
    "import itertools\n",
    "import json\n",
    "import pandas as pd\n",
    "import numpy as np\n",
    "from soil_roughness_change_detection.modules.outlier_detectors import (\n",
    "    dbscan_outlier_detector,\n",
    "    mahalanobis_distance_outlier_detector,\n",
    "    isolation_forest_outlier_detector\n",
    ")\n",
    "from soil_roughness_change_detection.modules.experiment import run_experiment\n",
    "from soil_roughness_change_detection.modules.preprocessor import (\n",
    "    preprocess_backscatter,\n",
    "    preprocess_harrysfarm_activity_log\n",
    ")\n",
    "\n",
    "%matplotlib inline"
   ]
  },
  {
   "cell_type": "markdown",
   "metadata": {},
   "source": [
    "## Config"
   ]
  },
  {
   "cell_type": "code",
   "execution_count": 2,
   "metadata": {},
   "outputs": [],
   "source": [
    "training_period_from = '2018-12-31'\n",
    "training_period_to = '2020-12-31'\n",
    "testing_period_to = '2022-12-31'\n",
    "s1_file_path = './data/harrysfarm/harrysfarm_fields_s1_grd.pkl'\n",
    "farm_activity_annotation_path = './data/harrysfarm_tillage_activity.csv'\n",
    "random_state = 123"
   ]
  },
  {
   "cell_type": "markdown",
   "metadata": {},
   "source": [
    "## Preprocessed Sentinel 1 Backscatter Data"
   ]
  },
  {
   "cell_type": "code",
   "execution_count": 3,
   "metadata": {},
   "outputs": [],
   "source": [
    "df = pd.read_pickle(s1_file_path)\n",
    "training_df, testing_df = preprocess_backscatter(\n",
    "    df,\n",
    "    training_period_from=training_period_from,\n",
    "    training_period_to=training_period_to,\n",
    "    testing_period_from=training_period_to,\n",
    "    testing_period_to=testing_period_to,\n",
    "    is_normalized_to_38_degree=True,\n",
    "    is_group_by_orbit=True\n",
    ")\n",
    "training_interval_df = training_df.reset_index()[['from_date', 'date']]\\\n",
    "    .groupby(['from_date', 'date']).first().reset_index().sort_values('from_date')\n",
    "\n",
    "testing_interval_df = testing_df.reset_index()[['from_date', 'date']]\\\n",
    "    .groupby(['from_date', 'date']).first().reset_index().sort_values('from_date')"
   ]
  },
  {
   "cell_type": "code",
   "execution_count": 4,
   "metadata": {},
   "outputs": [
    {
     "name": "stdout",
     "output_type": "stream",
     "text": [
      "Number of training dates: 359\n",
      "Number of training fields: 196\n",
      "Number of testing dates: 269\n",
      "Number of testing fields: 196\n"
     ]
    }
   ],
   "source": [
    "print(\"Number of training dates:\", training_df.reset_index().date.unique().shape[0])\n",
    "print(\"Number of training fields:\", training_df.reset_index().field_id.unique().shape[0])\n",
    "print(\"Number of testing dates:\", testing_df.reset_index().date.unique().shape[0])\n",
    "print(\"Number of testing fields:\", testing_df.reset_index().field_id.unique().shape[0])"
   ]
  },
  {
   "cell_type": "markdown",
   "metadata": {},
   "source": [
    "## Preprocess Harrys Farm Activity Data"
   ]
  },
  {
   "cell_type": "code",
   "execution_count": 5,
   "metadata": {},
   "outputs": [
    {
     "name": "stdout",
     "output_type": "stream",
     "text": [
      "Number of training events: 31\n",
      "Number of testing events: 41\n"
     ]
    }
   ],
   "source": [
    "tillage_df = pd.read_csv(farm_activity_annotation_path)\n",
    "\n",
    "train_tillage_df, test_tillage_df = preprocess_harrysfarm_activity_log(\n",
    "    tillage_df,\n",
    "    training_period_from=training_period_from,\n",
    "    training_period_to=training_period_to,\n",
    "    testing_period_from=training_period_to,\n",
    "    testing_period_to=testing_period_to\n",
    ")\n",
    "print('Number of training events:', train_tillage_df.shape[0])\n",
    "print('Number of testing events:', test_tillage_df.shape[0])"
   ]
  },
  {
   "cell_type": "markdown",
   "metadata": {},
   "source": [
    "## Models"
   ]
  },
  {
   "cell_type": "markdown",
   "metadata": {},
   "source": [
    "### DBSCAN"
   ]
  },
  {
   "cell_type": "code",
   "execution_count": 6,
   "metadata": {},
   "outputs": [],
   "source": [
    "eps_list = [0.1, 0.3, 0.5, 0.7, 1.0]\n",
    "min_samples_list = [3, 5, 10, 15, 20]\n",
    "metric_list = ['euclidean']\n",
    "leaf_size_list = [10, 20, 30, 40, 50]\n",
    "db_scan_parameter_combinations = [\n",
    "    {\n",
    "        'eps':item[0],\n",
    "        'min_samples':item[1],\n",
    "        'metric':item[2],\n",
    "        'leaf_size':item[3],\n",
    "        'n_jobs': -1\n",
    "    }\n",
    "    for item in list(itertools.product(eps_list, min_samples_list, metric_list, leaf_size_list))\n",
    "]\n",
    "dbscan_experiment_config = dict(\n",
    "    name = 'dbscan',\n",
    "    detector = dbscan_outlier_detector,\n",
    "    parameter_spaces = db_scan_parameter_combinations,\n",
    ")"
   ]
  },
  {
   "cell_type": "markdown",
   "metadata": {},
   "source": [
    "### Mahalanobis Distance with $\\chi^2$"
   ]
  },
  {
   "cell_type": "code",
   "execution_count": 7,
   "metadata": {},
   "outputs": [],
   "source": [
    "mahalanobis_parameter_combinations = [\n",
    "    {'alpha': 0.01},\n",
    "    {'alpha': 0.05},\n",
    "    {'alpha': 0.1}\n",
    "]\n",
    "mahalanobis_experiment_config = dict(\n",
    "    name = 'mahalanobis',\n",
    "    detector = mahalanobis_distance_outlier_detector,\n",
    "    parameter_spaces = mahalanobis_parameter_combinations,\n",
    ")"
   ]
  },
  {
   "cell_type": "markdown",
   "metadata": {},
   "source": [
    "### Isolation Forest"
   ]
  },
  {
   "cell_type": "code",
   "execution_count": 8,
   "metadata": {},
   "outputs": [],
   "source": [
    "n_estimators_list = [30, 50, 100, 150]\n",
    "contamination_list = [0.1, 0.2, 0.3, 0.4, 0.5, 'auto']\n",
    "\n",
    "isolation_forest_parameter_combinations = [\n",
    "    {\n",
    "        'n_estimators':item[0],\n",
    "        'contamination': item[1],\n",
    "        'n_jobs': -1,\n",
    "        'random_state': random_state\n",
    "    }\n",
    "    for item in list(itertools.product(\n",
    "        n_estimators_list,\n",
    "        contamination_list,\n",
    "    ))\n",
    "]\n",
    "isolation_forest_experiment_config = dict(\n",
    "    name = 'isolation_forest',\n",
    "    detector = isolation_forest_outlier_detector,\n",
    "    parameter_spaces = isolation_forest_parameter_combinations,\n",
    ")"
   ]
  },
  {
   "cell_type": "markdown",
   "metadata": {},
   "source": [
    "## Experiment"
   ]
  },
  {
   "cell_type": "markdown",
   "metadata": {},
   "source": [
    "### Experiment Config"
   ]
  },
  {
   "cell_type": "code",
   "execution_count": 9,
   "metadata": {},
   "outputs": [],
   "source": [
    "features = [\n",
    "    ['VV_diff', 'VH_diff'],\n",
    "    ['VV_ratio', 'VH_ratio'],\n",
    "    ['VV_ratio', 'VH_ratio', 'VH_VV_ratio_diff']\n",
    "]\n",
    "\n",
    "model_configs = [\n",
    "    dbscan_experiment_config,\n",
    "    mahalanobis_experiment_config,\n",
    "    isolation_forest_experiment_config\n",
    "]"
   ]
  },
  {
   "cell_type": "markdown",
   "metadata": {},
   "source": [
    "### Run Experiment"
   ]
  },
  {
   "cell_type": "code",
   "execution_count": 10,
   "metadata": {},
   "outputs": [
    {
     "name": "stdout",
     "output_type": "stream",
     "text": [
      "Running feature 0: ['VV_diff', 'VH_diff']\n",
      "Running dbscan\n"
     ]
    },
    {
     "name": "stderr",
     "output_type": "stream",
     "text": [
      "100%|███████████████████████████████████████████████████████████████████████████████████████████████████████████████████████████████████████████████████████████████████████████████| 125/125 [14:29<00:00,  6.96s/it]\n"
     ]
    },
    {
     "name": "stdout",
     "output_type": "stream",
     "text": [
      "Finish with 00:14:29\n",
      "Running mahalanobis\n"
     ]
    },
    {
     "name": "stderr",
     "output_type": "stream",
     "text": [
      "100%|███████████████████████████████████████████████████████████████████████████████████████████████████████████████████████████████████████████████████████████████████████████████████| 3/3 [00:10<00:00,  3.62s/it]\n"
     ]
    },
    {
     "name": "stdout",
     "output_type": "stream",
     "text": [
      "Finish with 00:00:10\n",
      "Running isolation_forest\n"
     ]
    },
    {
     "name": "stderr",
     "output_type": "stream",
     "text": [
      "100%|█████████████████████████████████████████████████████████████████████████████████████████████████████████████████████████████████████████████████████████████████████████████████| 24/24 [07:35<00:00, 18.98s/it]\n"
     ]
    },
    {
     "name": "stdout",
     "output_type": "stream",
     "text": [
      "Finish with 00:07:35\n",
      "Running feature 1: ['VV_ratio', 'VH_ratio']\n",
      "Running dbscan\n"
     ]
    },
    {
     "name": "stderr",
     "output_type": "stream",
     "text": [
      "100%|███████████████████████████████████████████████████████████████████████████████████████████████████████████████████████████████████████████████████████████████████████████████| 125/125 [14:18<00:00,  6.87s/it]\n"
     ]
    },
    {
     "name": "stdout",
     "output_type": "stream",
     "text": [
      "Finish with 00:14:18\n",
      "Running mahalanobis\n"
     ]
    },
    {
     "name": "stderr",
     "output_type": "stream",
     "text": [
      "100%|███████████████████████████████████████████████████████████████████████████████████████████████████████████████████████████████████████████████████████████████████████████████████| 3/3 [00:11<00:00,  3.68s/it]\n"
     ]
    },
    {
     "name": "stdout",
     "output_type": "stream",
     "text": [
      "Finish with 00:00:11\n",
      "Running isolation_forest\n"
     ]
    },
    {
     "name": "stderr",
     "output_type": "stream",
     "text": [
      "100%|█████████████████████████████████████████████████████████████████████████████████████████████████████████████████████████████████████████████████████████████████████████████████| 24/24 [07:44<00:00, 19.35s/it]\n"
     ]
    },
    {
     "name": "stdout",
     "output_type": "stream",
     "text": [
      "Finish with 00:07:44\n",
      "Running feature 2: ['VV_ratio', 'VH_ratio', 'VH_VV_ratio_diff']\n",
      "Running dbscan\n"
     ]
    },
    {
     "name": "stderr",
     "output_type": "stream",
     "text": [
      "100%|███████████████████████████████████████████████████████████████████████████████████████████████████████████████████████████████████████████████████████████████████████████████| 125/125 [14:17<00:00,  6.86s/it]\n"
     ]
    },
    {
     "name": "stdout",
     "output_type": "stream",
     "text": [
      "Finish with 00:14:17\n",
      "Running mahalanobis\n"
     ]
    },
    {
     "name": "stderr",
     "output_type": "stream",
     "text": [
      "100%|███████████████████████████████████████████████████████████████████████████████████████████████████████████████████████████████████████████████████████████████████████████████████| 3/3 [00:10<00:00,  3.64s/it]\n"
     ]
    },
    {
     "name": "stdout",
     "output_type": "stream",
     "text": [
      "Finish with 00:00:10\n",
      "Running isolation_forest\n"
     ]
    },
    {
     "name": "stderr",
     "output_type": "stream",
     "text": [
      "100%|█████████████████████████████████████████████████████████████████████████████████████████████████████████████████████████████████████████████████████████████████████████████████| 24/24 [13:55<00:00, 34.80s/it]"
     ]
    },
    {
     "name": "stdout",
     "output_type": "stream",
     "text": [
      "Finish with 00:13:55\n"
     ]
    },
    {
     "name": "stderr",
     "output_type": "stream",
     "text": [
      "\n"
     ]
    }
   ],
   "source": [
    "for feature_idx, feature in enumerate(features):\n",
    "    print(f'Running feature {feature_idx}: {feature}')\n",
    "    for model_config in model_configs:\n",
    "        print(f'Running {model_config[\"name\"]}')\n",
    "        results = run_experiment(\n",
    "            training_df,\n",
    "            train_tillage_df,\n",
    "            training_interval_df,\n",
    "            feature,\n",
    "            model_config['detector'],\n",
    "            model_config['parameter_spaces']\n",
    "        )\n",
    "        with open(f'results/{model_config[\"name\"]}_train_result_feature_{feature_idx}_grd_norm.json', 'w+') as f:\n",
    "            f.write(json.dumps(results, indent=2))"
   ]
  }
 ],
 "metadata": {
  "kernelspec": {
   "display_name": "Python 3 (ipykernel)",
   "language": "python",
   "name": "python3"
  },
  "language_info": {
   "codemirror_mode": {
    "name": "ipython",
    "version": 3
   },
   "file_extension": ".py",
   "mimetype": "text/x-python",
   "name": "python",
   "nbconvert_exporter": "python",
   "pygments_lexer": "ipython3",
   "version": "3.12.3"
  }
 },
 "nbformat": 4,
 "nbformat_minor": 2
}
